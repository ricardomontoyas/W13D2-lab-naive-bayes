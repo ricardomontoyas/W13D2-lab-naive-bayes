{
 "cells": [
  {
   "cell_type": "markdown",
   "id": "ca411179-237e-4f6a-853c-3db4bae77d7c",
   "metadata": {},
   "source": [
    "# Predicting Diabetes Using Naive Bayes\n",
    "\n",
    "### Objective\n",
    "- Apply Naive Bayes for binary classification.\n",
    "- Practice data exploration and preprocessing.\n",
    "- Evaluate model performance using appropriate metrics.\n",
    "- Understand and interpret the log probabilities used in Naive Bayes.\n",
    "\n",
    "### Dataset\n",
    "This lab uses the Pima Indians Diabetes Dataset from the UCI Machine Learning Repository. It contains 8 features based on medical information, with a binary target indicating the presence of diabetes (1) or absence (0).\n",
    "\n",
    "### Features\n",
    "`Pregnancies`: Number of times pregnant\n",
    "`Glucose`: Plasma glucose concentration\n",
    "`BloodPressure`: Diastolic blood pressure (mm Hg)\n",
    "`SkinThickness`: Triceps skinfold thickness (mm)\n",
    "`Insulin`: 2-Hour serum insulin (mu U/ml)\n",
    "`BMI`: Body mass index (weight in kg/(height in m)^2)\n",
    "`DiabetesPedigreeFunction`: Diabetes pedigree function (a function based on family history)\n",
    "`Age`: Age (years)\n",
    "`Outcome`: Class variable (1 if patient has diabetes, 0 otherwise)"
   ]
  },
  {
   "cell_type": "markdown",
   "id": "a69ab905-df5a-4814-b608-85e0b9ce4522",
   "metadata": {},
   "source": [
    "### Import packages"
   ]
  },
  {
   "cell_type": "code",
   "execution_count": 4,
   "id": "b63f66cf-2fc1-4232-af50-527235c37374",
   "metadata": {},
   "outputs": [],
   "source": [
    "# Import the necessary libraries for data manipulation, model training, and evaluation.\n",
    "# your code here\n",
    "\n",
    "import pandas as pd\n",
    "import numpy as np\n",
    "from sklearn.model_selection import train_test_split\n",
    "from sklearn.naive_bayes import GaussianNB\n",
    "from sklearn.metrics import accuracy_score, classification_report, confusion_matrix\n",
    "import matplotlib.pyplot as plt\n",
    "import seaborn as sns"
   ]
  },
  {
   "cell_type": "markdown",
   "id": "ae8795d9-448e-442e-8825-2544731f44df",
   "metadata": {},
   "source": [
    "### Data Loading and Exploration"
   ]
  },
  {
   "cell_type": "code",
   "execution_count": 6,
   "id": "e0540e43-06d2-4b2d-a36c-2ccc6ce47286",
   "metadata": {},
   "outputs": [
    {
     "name": "stdout",
     "output_type": "stream",
     "text": [
      "<class 'pandas.core.frame.DataFrame'>\n",
      "RangeIndex: 768 entries, 0 to 767\n",
      "Data columns (total 9 columns):\n",
      " #   Column                    Non-Null Count  Dtype  \n",
      "---  ------                    --------------  -----  \n",
      " 0   Pregnancies               768 non-null    int64  \n",
      " 1   Glucose                   768 non-null    int64  \n",
      " 2   BloodPressure             768 non-null    int64  \n",
      " 3   SkinThickness             768 non-null    int64  \n",
      " 4   Insulin                   768 non-null    int64  \n",
      " 5   BMI                       768 non-null    float64\n",
      " 6   DiabetesPedigreeFunction  768 non-null    float64\n",
      " 7   Age                       768 non-null    int64  \n",
      " 8   Outcome                   768 non-null    int64  \n",
      "dtypes: float64(2), int64(7)\n",
      "memory usage: 54.1 KB\n"
     ]
    },
    {
     "data": {
      "text/html": [
       "<div>\n",
       "<style scoped>\n",
       "    .dataframe tbody tr th:only-of-type {\n",
       "        vertical-align: middle;\n",
       "    }\n",
       "\n",
       "    .dataframe tbody tr th {\n",
       "        vertical-align: top;\n",
       "    }\n",
       "\n",
       "    .dataframe thead th {\n",
       "        text-align: right;\n",
       "    }\n",
       "</style>\n",
       "<table border=\"1\" class=\"dataframe\">\n",
       "  <thead>\n",
       "    <tr style=\"text-align: right;\">\n",
       "      <th></th>\n",
       "      <th>Pregnancies</th>\n",
       "      <th>Glucose</th>\n",
       "      <th>BloodPressure</th>\n",
       "      <th>SkinThickness</th>\n",
       "      <th>Insulin</th>\n",
       "      <th>BMI</th>\n",
       "      <th>DiabetesPedigreeFunction</th>\n",
       "      <th>Age</th>\n",
       "      <th>Outcome</th>\n",
       "    </tr>\n",
       "  </thead>\n",
       "  <tbody>\n",
       "    <tr>\n",
       "      <th>0</th>\n",
       "      <td>6</td>\n",
       "      <td>148</td>\n",
       "      <td>72</td>\n",
       "      <td>35</td>\n",
       "      <td>0</td>\n",
       "      <td>33.6</td>\n",
       "      <td>0.627</td>\n",
       "      <td>50</td>\n",
       "      <td>1</td>\n",
       "    </tr>\n",
       "    <tr>\n",
       "      <th>1</th>\n",
       "      <td>1</td>\n",
       "      <td>85</td>\n",
       "      <td>66</td>\n",
       "      <td>29</td>\n",
       "      <td>0</td>\n",
       "      <td>26.6</td>\n",
       "      <td>0.351</td>\n",
       "      <td>31</td>\n",
       "      <td>0</td>\n",
       "    </tr>\n",
       "    <tr>\n",
       "      <th>2</th>\n",
       "      <td>8</td>\n",
       "      <td>183</td>\n",
       "      <td>64</td>\n",
       "      <td>0</td>\n",
       "      <td>0</td>\n",
       "      <td>23.3</td>\n",
       "      <td>0.672</td>\n",
       "      <td>32</td>\n",
       "      <td>1</td>\n",
       "    </tr>\n",
       "    <tr>\n",
       "      <th>3</th>\n",
       "      <td>1</td>\n",
       "      <td>89</td>\n",
       "      <td>66</td>\n",
       "      <td>23</td>\n",
       "      <td>94</td>\n",
       "      <td>28.1</td>\n",
       "      <td>0.167</td>\n",
       "      <td>21</td>\n",
       "      <td>0</td>\n",
       "    </tr>\n",
       "    <tr>\n",
       "      <th>4</th>\n",
       "      <td>0</td>\n",
       "      <td>137</td>\n",
       "      <td>40</td>\n",
       "      <td>35</td>\n",
       "      <td>168</td>\n",
       "      <td>43.1</td>\n",
       "      <td>2.288</td>\n",
       "      <td>33</td>\n",
       "      <td>1</td>\n",
       "    </tr>\n",
       "  </tbody>\n",
       "</table>\n",
       "</div>"
      ],
      "text/plain": [
       "   Pregnancies  Glucose  BloodPressure  SkinThickness  Insulin   BMI  \\\n",
       "0            6      148             72             35        0  33.6   \n",
       "1            1       85             66             29        0  26.6   \n",
       "2            8      183             64              0        0  23.3   \n",
       "3            1       89             66             23       94  28.1   \n",
       "4            0      137             40             35      168  43.1   \n",
       "\n",
       "   DiabetesPedigreeFunction  Age  Outcome  \n",
       "0                     0.627   50        1  \n",
       "1                     0.351   31        0  \n",
       "2                     0.672   32        1  \n",
       "3                     0.167   21        0  \n",
       "4                     2.288   33        1  "
      ]
     },
     "execution_count": 6,
     "metadata": {},
     "output_type": "execute_result"
    }
   ],
   "source": [
    "# Load the Pima Indiands Diabetes Dataset in the folder ../data and preview the data\n",
    "# Display summary statistics\n",
    "# your code here\n",
    "\n",
    "import pandas as pd\n",
    "\n",
    "# Load the dataset\n",
    "file_path = '/Users/ricardomontoyasantos/Desktop/DSML/W13D2-lab-naive-bayes/data/pima_diabetes.csv'\n",
    "df = pd.read_csv(file_path)\n",
    "\n",
    "# Show basic info and first few rows\n",
    "df_info = df.info()\n",
    "df_head = df.head()\n",
    "\n",
    "df_info\n",
    "df_head"
   ]
  },
  {
   "cell_type": "code",
   "execution_count": 7,
   "id": "a2a899a1-1412-49fd-b74e-1b2b14e16050",
   "metadata": {},
   "outputs": [
    {
     "name": "stdout",
     "output_type": "stream",
     "text": [
      "Summary Statistics:\n",
      "       Pregnancies     Glucose  BloodPressure  SkinThickness     Insulin  \\\n",
      "count   768.000000  768.000000     768.000000     768.000000  768.000000   \n",
      "mean      3.845052  120.894531      69.105469      20.536458   79.799479   \n",
      "std       3.369578   31.972618      19.355807      15.952218  115.244002   \n",
      "min       0.000000    0.000000       0.000000       0.000000    0.000000   \n",
      "25%       1.000000   99.000000      62.000000       0.000000    0.000000   \n",
      "50%       3.000000  117.000000      72.000000      23.000000   30.500000   \n",
      "75%       6.000000  140.250000      80.000000      32.000000  127.250000   \n",
      "max      17.000000  199.000000     122.000000      99.000000  846.000000   \n",
      "\n",
      "              BMI  DiabetesPedigreeFunction         Age     Outcome  \n",
      "count  768.000000                768.000000  768.000000  768.000000  \n",
      "mean    31.992578                  0.471876   33.240885    0.348958  \n",
      "std      7.884160                  0.331329   11.760232    0.476951  \n",
      "min      0.000000                  0.078000   21.000000    0.000000  \n",
      "25%     27.300000                  0.243750   24.000000    0.000000  \n",
      "50%     32.000000                  0.372500   29.000000    0.000000  \n",
      "75%     36.600000                  0.626250   41.000000    1.000000  \n",
      "max     67.100000                  2.420000   81.000000    1.000000  \n"
     ]
    }
   ],
   "source": [
    "print(\"Summary Statistics:\")\n",
    "print(df.describe())"
   ]
  },
  {
   "cell_type": "markdown",
   "id": "dceacc95-5238-46dd-bbe2-304cfce94133",
   "metadata": {},
   "source": [
    "### Data Cleaning\n",
    "\n",
    "1. *Handling Missing Values*: Replace 0 values in Glucose, BloodPressure, SkinThickness, Insulin, and BMI columns with their respective median values.\n",
    "2. *Split Data*: Separate the feature columns (X) and target (y), and then split into training and test sets with an 80-20 split."
   ]
  },
  {
   "cell_type": "code",
   "execution_count": 9,
   "id": "7320c1cf-09b0-47ac-bd6a-3a3955e89f71",
   "metadata": {},
   "outputs": [
    {
     "data": {
      "text/plain": [
       "((614, 8), (154, 8), (614,), (154,))"
      ]
     },
     "execution_count": 9,
     "metadata": {},
     "output_type": "execute_result"
    }
   ],
   "source": [
    "# your code here\n",
    "from sklearn.model_selection import train_test_split\n",
    "\n",
    "# Make a copy of the dataset to clean\n",
    "df_cleaned = df.copy()\n",
    "\n",
    "# Columns where 0 is likely a placeholder for missing values\n",
    "cols_with_missing_zeros = ['Glucose', 'BloodPressure', 'SkinThickness', 'Insulin', 'BMI']\n",
    "\n",
    "# Replace 0s with the median of each column\n",
    "for col in cols_with_missing_zeros:\n",
    "    median_val = df_cleaned[col].median()\n",
    "    df_cleaned[col] = df_cleaned[col].replace(0, median_val)\n",
    "\n",
    "# Separate features and target\n",
    "X = df_cleaned.drop('Outcome', axis=1)\n",
    "y = df_cleaned['Outcome']\n",
    "\n",
    "# Split into training and test sets (80-20 split)\n",
    "X_train, X_test, y_train, y_test = train_test_split(X, y, test_size=0.2, random_state=42)\n",
    "\n",
    "# Output shapes for confirmation\n",
    "X_train.shape, X_test.shape, y_train.shape, y_test.shape\n",
    "\n",
    "\n"
   ]
  },
  {
   "cell_type": "markdown",
   "id": "fa4e4bcc-7f24-4b93-9975-ec9f436c8c73",
   "metadata": {},
   "source": [
    "### Train a Naïve Bayes Classifier\n",
    "\n",
    "Since the features are continuous, we need to use the `GaussianNB` model instead of the ones we used so far for categorical variables"
   ]
  },
  {
   "cell_type": "code",
   "execution_count": 11,
   "id": "0b94c06c-42c7-48e9-a82f-3087041deb51",
   "metadata": {},
   "outputs": [],
   "source": [
    "# your code here\n",
    "from sklearn.naive_bayes import GaussianNB\n",
    "from sklearn.metrics import classification_report, confusion_matrix, accuracy_score\n",
    "\n",
    "# Initialize the Gaussian Naive Bayes classifier\n",
    "nb_classifier = GaussianNB()\n",
    "\n",
    "# Train the model\n",
    "nb_classifier.fit(X_train, y_train)\n",
    "\n",
    "# Make predictions on the test set\n",
    "y_pred = nb_classifier.predict(X_test)\n"
   ]
  },
  {
   "cell_type": "markdown",
   "id": "05a519ee-88e5-47ec-8dc2-21c1483ba242",
   "metadata": {},
   "source": [
    "### Model Evaluation\n",
    "\n",
    "Evaluate the model's accuracy, precision and recall. Analyse the confusion matrix.\n",
    "Give the setting of the problem, which metrics would you privilege?"
   ]
  },
  {
   "cell_type": "code",
   "execution_count": 20,
   "id": "8a3a26af-011b-4f6f-9e34-cfdf185cd2c5",
   "metadata": {
    "scrolled": true
   },
   "outputs": [
    {
     "name": "stdout",
     "output_type": "stream",
     "text": [
      "Model Evaluation Metrics:\n",
      "Accuracy : 75.32%\n",
      "Precision: 64.41%\n",
      "Recall   : 69.09%\n"
     ]
    }
   ],
   "source": [
    "# your code here\n",
    "from sklearn.metrics import accuracy_score, precision_score, recall_score\n",
    "\n",
    "conf_matrix = confusion_matrix(y_test, y_pred)\n",
    "\n",
    "accuracy = accuracy_score(y_test, y_pred)\n",
    "precision = precision_score(y_test, y_pred, pos_label=1)\n",
    "recall = recall_score(y_test, y_pred, pos_label=1)\n",
    "\n",
    "print(f\"Model Evaluation Metrics:\")\n",
    "print(f\"Accuracy : {accuracy:.2%}\")\n",
    "print(f\"Precision: {precision:.2%}\")\n",
    "print(f\"Recall   : {recall:.2%}\")"
   ]
  },
  {
   "cell_type": "markdown",
   "id": "53280c3e-812e-4470-b7be-7b60425b9aa6",
   "metadata": {},
   "source": [
    "In this medical context, the most important metric is **recall, which is 69.09% in our model**. This means the model correctly identifies about **7 out of 10 people who actually have diabetes**. In healthcare, especially when detecting diseases, it’s much more dangerous to miss a sick person than to wrongly suspect someone is ill. Missing a diabetic case (a false negative) could delay treatment and lead to serious health problems. That’s why we prioritize recall — we want to catch as many real cases as possible, even if that means doing some extra tests on people who turn out to be healthy."
   ]
  },
  {
   "cell_type": "markdown",
   "id": "d028fb89-4f57-4f8d-a714-f369ab0b5911",
   "metadata": {},
   "source": [
    "### Exploring Log Probabilities in Naïve Bayes\n",
    "\n",
    "Naive Bayes calculates log probabilities (logprobs) for each class to make predictions. Let's use `predict_log_proba` to calculate the log probabilities for each class (diabetes vs. no diabetes) for a few samples in the test set.\n",
    "\n",
    "Question: For a given instance in the test set, calculate the log probabilities for each class (diabetes vs. no diabetes) and interpret the values. How does Naive Bayes decide the predicted class based on these log probabilities?"
   ]
  },
  {
   "cell_type": "code",
   "execution_count": 24,
   "id": "3478981e-3183-4ba3-8226-f27b7d86639e",
   "metadata": {},
   "outputs": [
    {
     "name": "stdout",
     "output_type": "stream",
     "text": [
      "Sample 0 - Log Probabilities:\n",
      "No Diabetes (0): -0.2415, Diabetes (1): -1.5391\n",
      "Predicted Class: 0\n",
      "\n",
      "Sample 1 - Log Probabilities:\n",
      "No Diabetes (0): -0.0728, Diabetes (1): -2.6562\n",
      "Predicted Class: 0\n",
      "\n",
      "Sample 12 - Log Probabilities:\n",
      "No Diabetes (0): -0.9818, Diabetes (1): -0.4694\n",
      "Predicted Class: 1\n",
      "\n"
     ]
    }
   ],
   "source": [
    "# Select a few samples from the test set\n",
    "sample_indices = [0, 1, 12]  # Change these indices as desired\n",
    "X_sample = X_test.iloc[sample_indices]\n",
    "\n",
    "# Calculate log probabilities for each class\n",
    "log_probs = nb_classifier.predict_log_proba(X_sample)\n",
    "\n",
    "# Display results\n",
    "for i, index in enumerate(sample_indices):\n",
    "    print(f\"Sample {index} - Log Probabilities:\")\n",
    "    print(f\"No Diabetes (0): {log_probs[i][0]:.4f}, Diabetes (1): {log_probs[i][1]:.4f}\")\n",
    "    print(f\"Predicted Class: {nb_classifier.predict(X_sample.iloc[[i]])[0]}\")\n",
    "    print()"
   ]
  },
  {
   "cell_type": "markdown",
   "id": "01bdc3c4-2fb5-4319-8aeb-ea2f1c3512c9",
   "metadata": {},
   "source": [
    "Naive Bayes calculates the log probabilities for each class — in this case, diabetes (1) and no diabetes (0). It then compares the two values and chooses the class with the higher log probability (i.e., the less negative one). So, if the log probability of class 0 is higher than that of class 1, it predicts no diabetes. This is how it decides the predicted class."
   ]
  },
  {
   "cell_type": "markdown",
   "id": "929a2b08-fa53-4edd-81e3-347351cc7fcb",
   "metadata": {},
   "source": [
    "- Interpretation of Log Probabilities: Log probabilities represent the logarithm of the probability for each class. A higher log probability (closer to zero, since log values are negative) indicates a higher likelihood for that class.\n",
    "- Decision-Making: The model predicts the class with the highest log probability. If the log probability for Diabetes (1) is higher (closer to zero) than for No Diabetes (0), the model will predict Diabetes (1).\n",
    "\n",
    "Convert log probabilities back to regular probabilities using np.exp(log_probs) to see how log transformations aid computation without changing predictions."
   ]
  },
  {
   "cell_type": "code",
   "execution_count": 28,
   "id": "0ebdc252-3f81-4c6e-801c-addcad261528",
   "metadata": {},
   "outputs": [
    {
     "data": {
      "text/plain": [
       "array([[0.78542577, 0.21457423],\n",
       "       [0.92978416, 0.07021584],\n",
       "       [0.37464338, 0.62535662]])"
      ]
     },
     "execution_count": 28,
     "metadata": {},
     "output_type": "execute_result"
    }
   ],
   "source": [
    "# your code here\n",
    "# Convert log probabilities back to regular probabilities using np.exp(log_probs) to see how log transformations\n",
    "#aid computation without changing predictions.\n",
    "    \n",
    "probs = np.exp(log_probs)\n",
    "\n",
    "probs"
   ]
  },
  {
   "cell_type": "markdown",
   "id": "d8ba72a4-28b9-46ce-954d-4a58f31f2c2e",
   "metadata": {},
   "source": [
    "Change your decision treshold so that either class 1 or 0 becomes more frequent in order to optimize your preferred metric (precision or recall) for this problem. Try multiple tresholds until you are satisfied with your choice."
   ]
  },
  {
   "cell_type": "code",
   "execution_count": 31,
   "id": "a633a9d1-52f5-456a-a696-338bfbfe6d39",
   "metadata": {},
   "outputs": [
    {
     "data": {
      "text/html": [
       "<div>\n",
       "<style scoped>\n",
       "    .dataframe tbody tr th:only-of-type {\n",
       "        vertical-align: middle;\n",
       "    }\n",
       "\n",
       "    .dataframe tbody tr th {\n",
       "        vertical-align: top;\n",
       "    }\n",
       "\n",
       "    .dataframe thead th {\n",
       "        text-align: right;\n",
       "    }\n",
       "</style>\n",
       "<table border=\"1\" class=\"dataframe\">\n",
       "  <thead>\n",
       "    <tr style=\"text-align: right;\">\n",
       "      <th></th>\n",
       "      <th>index</th>\n",
       "      <th>no_diab_prob</th>\n",
       "      <th>diab_prob</th>\n",
       "      <th>prediction</th>\n",
       "    </tr>\n",
       "  </thead>\n",
       "  <tbody>\n",
       "    <tr>\n",
       "      <th>0</th>\n",
       "      <td>668</td>\n",
       "      <td>0.785426</td>\n",
       "      <td>0.785426</td>\n",
       "      <td>0</td>\n",
       "    </tr>\n",
       "    <tr>\n",
       "      <th>1</th>\n",
       "      <td>324</td>\n",
       "      <td>0.929784</td>\n",
       "      <td>0.929784</td>\n",
       "      <td>0</td>\n",
       "    </tr>\n",
       "    <tr>\n",
       "      <th>2</th>\n",
       "      <td>624</td>\n",
       "      <td>0.981480</td>\n",
       "      <td>0.981480</td>\n",
       "      <td>0</td>\n",
       "    </tr>\n",
       "    <tr>\n",
       "      <th>3</th>\n",
       "      <td>690</td>\n",
       "      <td>0.848221</td>\n",
       "      <td>0.848221</td>\n",
       "      <td>0</td>\n",
       "    </tr>\n",
       "    <tr>\n",
       "      <th>4</th>\n",
       "      <td>473</td>\n",
       "      <td>0.451266</td>\n",
       "      <td>0.451266</td>\n",
       "      <td>1</td>\n",
       "    </tr>\n",
       "  </tbody>\n",
       "</table>\n",
       "</div>"
      ],
      "text/plain": [
       "   index  no_diab_prob  diab_prob  prediction\n",
       "0    668      0.785426   0.785426           0\n",
       "1    324      0.929784   0.929784           0\n",
       "2    624      0.981480   0.981480           0\n",
       "3    690      0.848221   0.848221           0\n",
       "4    473      0.451266   0.451266           1"
      ]
     },
     "execution_count": 31,
     "metadata": {},
     "output_type": "execute_result"
    }
   ],
   "source": [
    "treshold = 0.5 # adjust this number to make it easier/harder to classify someone as diabetic\n",
    "\n",
    "\n",
    "# Calculate log probabilities for each class\n",
    "log_probs = nb_classifier.predict_log_proba(X_test)\n",
    "\n",
    "#compute probability of No Diabetes (0) vs Diabetes (1)\n",
    "probabilities = []\n",
    "for i, index in enumerate(X_test.index):\n",
    "    prediction = 0 if np.exp(log_probs[i][0]) >= treshold else 1\n",
    "    probabilities.append({'index':index,'no_diab_prob': np.exp(log_probs[i][0]), 'diab_prob': np.exp(log_probs[i][0]), 'prediction':prediction})\n",
    "\n",
    "probabilities = pd.DataFrame(probabilities)\n",
    "probabilities.head()\n",
    "\n",
    "\n"
   ]
  },
  {
   "cell_type": "code",
   "execution_count": 33,
   "id": "4ecae063-c705-47d3-a6a2-56ee43be6a0c",
   "metadata": {},
   "outputs": [
    {
     "data": {
      "text/html": [
       "<div>\n",
       "<style scoped>\n",
       "    .dataframe tbody tr th:only-of-type {\n",
       "        vertical-align: middle;\n",
       "    }\n",
       "\n",
       "    .dataframe tbody tr th {\n",
       "        vertical-align: top;\n",
       "    }\n",
       "\n",
       "    .dataframe thead th {\n",
       "        text-align: right;\n",
       "    }\n",
       "</style>\n",
       "<table border=\"1\" class=\"dataframe\">\n",
       "  <thead>\n",
       "    <tr style=\"text-align: right;\">\n",
       "      <th></th>\n",
       "      <th>index</th>\n",
       "      <th>no_diab_prob</th>\n",
       "      <th>diab_prob</th>\n",
       "      <th>prediction</th>\n",
       "    </tr>\n",
       "  </thead>\n",
       "  <tbody>\n",
       "    <tr>\n",
       "      <th>0</th>\n",
       "      <td>668</td>\n",
       "      <td>0.785426</td>\n",
       "      <td>0.785426</td>\n",
       "      <td>0</td>\n",
       "    </tr>\n",
       "    <tr>\n",
       "      <th>1</th>\n",
       "      <td>324</td>\n",
       "      <td>0.929784</td>\n",
       "      <td>0.929784</td>\n",
       "      <td>0</td>\n",
       "    </tr>\n",
       "    <tr>\n",
       "      <th>2</th>\n",
       "      <td>624</td>\n",
       "      <td>0.981480</td>\n",
       "      <td>0.981480</td>\n",
       "      <td>0</td>\n",
       "    </tr>\n",
       "    <tr>\n",
       "      <th>3</th>\n",
       "      <td>690</td>\n",
       "      <td>0.848221</td>\n",
       "      <td>0.848221</td>\n",
       "      <td>0</td>\n",
       "    </tr>\n",
       "    <tr>\n",
       "      <th>4</th>\n",
       "      <td>473</td>\n",
       "      <td>0.451266</td>\n",
       "      <td>0.451266</td>\n",
       "      <td>0</td>\n",
       "    </tr>\n",
       "  </tbody>\n",
       "</table>\n",
       "</div>"
      ],
      "text/plain": [
       "   index  no_diab_prob  diab_prob  prediction\n",
       "0    668      0.785426   0.785426           0\n",
       "1    324      0.929784   0.929784           0\n",
       "2    624      0.981480   0.981480           0\n",
       "3    690      0.848221   0.848221           0\n",
       "4    473      0.451266   0.451266           0"
      ]
     },
     "execution_count": 33,
     "metadata": {},
     "output_type": "execute_result"
    }
   ],
   "source": [
    "\n",
    "treshold = 0.1 # adjust this number to make it easier/harder to classify someone as diabetic\n",
    "\n",
    "\n",
    "# Calculate log probabilities for each class\n",
    "log_probs = nb_classifier.predict_log_proba(X_test)\n",
    "\n",
    "#compute probability of No Diabetes (0) vs Diabetes (1)\n",
    "probabilities = []\n",
    "for i, index in enumerate(X_test.index):\n",
    "    prediction = 0 if np.exp(log_probs[i][0]) >= treshold else 1\n",
    "    probabilities.append({'index':index,'no_diab_prob': np.exp(log_probs[i][0]), 'diab_prob': np.exp(log_probs[i][0]), 'prediction':prediction})\n",
    "\n",
    "probabilities = pd.DataFrame(probabilities)\n",
    "probabilities.head()"
   ]
  },
  {
   "cell_type": "code",
   "execution_count": 35,
   "id": "4c8de892-b26c-4b4b-b05b-584353c14038",
   "metadata": {},
   "outputs": [
    {
     "data": {
      "text/html": [
       "<div>\n",
       "<style scoped>\n",
       "    .dataframe tbody tr th:only-of-type {\n",
       "        vertical-align: middle;\n",
       "    }\n",
       "\n",
       "    .dataframe tbody tr th {\n",
       "        vertical-align: top;\n",
       "    }\n",
       "\n",
       "    .dataframe thead th {\n",
       "        text-align: right;\n",
       "    }\n",
       "</style>\n",
       "<table border=\"1\" class=\"dataframe\">\n",
       "  <thead>\n",
       "    <tr style=\"text-align: right;\">\n",
       "      <th></th>\n",
       "      <th>index</th>\n",
       "      <th>no_diab_prob</th>\n",
       "      <th>diab_prob</th>\n",
       "      <th>prediction</th>\n",
       "    </tr>\n",
       "  </thead>\n",
       "  <tbody>\n",
       "    <tr>\n",
       "      <th>0</th>\n",
       "      <td>668</td>\n",
       "      <td>0.785426</td>\n",
       "      <td>0.785426</td>\n",
       "      <td>0</td>\n",
       "    </tr>\n",
       "    <tr>\n",
       "      <th>1</th>\n",
       "      <td>324</td>\n",
       "      <td>0.929784</td>\n",
       "      <td>0.929784</td>\n",
       "      <td>0</td>\n",
       "    </tr>\n",
       "    <tr>\n",
       "      <th>2</th>\n",
       "      <td>624</td>\n",
       "      <td>0.981480</td>\n",
       "      <td>0.981480</td>\n",
       "      <td>0</td>\n",
       "    </tr>\n",
       "    <tr>\n",
       "      <th>3</th>\n",
       "      <td>690</td>\n",
       "      <td>0.848221</td>\n",
       "      <td>0.848221</td>\n",
       "      <td>0</td>\n",
       "    </tr>\n",
       "    <tr>\n",
       "      <th>4</th>\n",
       "      <td>473</td>\n",
       "      <td>0.451266</td>\n",
       "      <td>0.451266</td>\n",
       "      <td>1</td>\n",
       "    </tr>\n",
       "  </tbody>\n",
       "</table>\n",
       "</div>"
      ],
      "text/plain": [
       "   index  no_diab_prob  diab_prob  prediction\n",
       "0    668      0.785426   0.785426           0\n",
       "1    324      0.929784   0.929784           0\n",
       "2    624      0.981480   0.981480           0\n",
       "3    690      0.848221   0.848221           0\n",
       "4    473      0.451266   0.451266           1"
      ]
     },
     "execution_count": 35,
     "metadata": {},
     "output_type": "execute_result"
    }
   ],
   "source": [
    "treshold = 0.70 # adjust this number to make it easier/harder to classify someone as diabetic\n",
    "\n",
    "\n",
    "# Calculate log probabilities for each class\n",
    "log_probs = nb_classifier.predict_log_proba(X_test)\n",
    "\n",
    "#compute probability of No Diabetes (0) vs Diabetes (1)\n",
    "probabilities = []\n",
    "for i, index in enumerate(X_test.index):\n",
    "    prediction = 0 if np.exp(log_probs[i][0]) >= treshold else 1\n",
    "    probabilities.append({'index':index,'no_diab_prob': np.exp(log_probs[i][0]), 'diab_prob': np.exp(log_probs[i][0]), 'prediction':prediction})\n",
    "\n",
    "probabilities = pd.DataFrame(probabilities)\n",
    "probabilities.head()"
   ]
  },
  {
   "cell_type": "code",
   "execution_count": 37,
   "id": "5221b9e8-cf04-45b7-8694-9c22c5b92d9e",
   "metadata": {},
   "outputs": [
    {
     "data": {
      "text/html": [
       "<div>\n",
       "<style scoped>\n",
       "    .dataframe tbody tr th:only-of-type {\n",
       "        vertical-align: middle;\n",
       "    }\n",
       "\n",
       "    .dataframe tbody tr th {\n",
       "        vertical-align: top;\n",
       "    }\n",
       "\n",
       "    .dataframe thead th {\n",
       "        text-align: right;\n",
       "    }\n",
       "</style>\n",
       "<table border=\"1\" class=\"dataframe\">\n",
       "  <thead>\n",
       "    <tr style=\"text-align: right;\">\n",
       "      <th></th>\n",
       "      <th>index</th>\n",
       "      <th>no_diab_prob</th>\n",
       "      <th>diab_prob</th>\n",
       "      <th>prediction</th>\n",
       "    </tr>\n",
       "  </thead>\n",
       "  <tbody>\n",
       "    <tr>\n",
       "      <th>0</th>\n",
       "      <td>668</td>\n",
       "      <td>0.785426</td>\n",
       "      <td>0.785426</td>\n",
       "      <td>1</td>\n",
       "    </tr>\n",
       "    <tr>\n",
       "      <th>1</th>\n",
       "      <td>324</td>\n",
       "      <td>0.929784</td>\n",
       "      <td>0.929784</td>\n",
       "      <td>0</td>\n",
       "    </tr>\n",
       "    <tr>\n",
       "      <th>2</th>\n",
       "      <td>624</td>\n",
       "      <td>0.981480</td>\n",
       "      <td>0.981480</td>\n",
       "      <td>0</td>\n",
       "    </tr>\n",
       "    <tr>\n",
       "      <th>3</th>\n",
       "      <td>690</td>\n",
       "      <td>0.848221</td>\n",
       "      <td>0.848221</td>\n",
       "      <td>1</td>\n",
       "    </tr>\n",
       "    <tr>\n",
       "      <th>4</th>\n",
       "      <td>473</td>\n",
       "      <td>0.451266</td>\n",
       "      <td>0.451266</td>\n",
       "      <td>1</td>\n",
       "    </tr>\n",
       "  </tbody>\n",
       "</table>\n",
       "</div>"
      ],
      "text/plain": [
       "   index  no_diab_prob  diab_prob  prediction\n",
       "0    668      0.785426   0.785426           1\n",
       "1    324      0.929784   0.929784           0\n",
       "2    624      0.981480   0.981480           0\n",
       "3    690      0.848221   0.848221           1\n",
       "4    473      0.451266   0.451266           1"
      ]
     },
     "execution_count": 37,
     "metadata": {},
     "output_type": "execute_result"
    }
   ],
   "source": [
    "treshold = 0.85 # adjust this number to make it easier/harder to classify someone as diabetic\n",
    "\n",
    "\n",
    "# Calculate log probabilities for each class\n",
    "log_probs = nb_classifier.predict_log_proba(X_test)\n",
    "\n",
    "#compute probability of No Diabetes (0) vs Diabetes (1)\n",
    "probabilities = []\n",
    "for i, index in enumerate(X_test.index):\n",
    "    prediction = 0 if np.exp(log_probs[i][0]) >= treshold else 1\n",
    "    probabilities.append({'index':index,'no_diab_prob': np.exp(log_probs[i][0]), 'diab_prob': np.exp(log_probs[i][0]), 'prediction':prediction})\n",
    "\n",
    "probabilities = pd.DataFrame(probabilities)\n",
    "probabilities.head()"
   ]
  },
  {
   "cell_type": "code",
   "execution_count": 39,
   "id": "2e08d565-3d2c-4420-a9d8-9b166d6f3285",
   "metadata": {},
   "outputs": [
    {
     "data": {
      "image/png": "[encoded data removed]",
      "text/plain": [
       "<Figure size 640x480 with 2 Axes>"
      ]
     },
     "metadata": {},
     "output_type": "display_data"
    }
   ],
   "source": [
    "# create the confusion matrix for the adjusted problem\n",
    "y_pred_adjusted = probabilities['prediction']\n",
    "cm = confusion_matrix(y_test, y_pred_adjusted)\n",
    "sns.heatmap(cm, annot=True, fmt='d', cmap='Blues', xticklabels=['No Diabetes', 'Diabetes'], yticklabels=['No Diabetes', 'Diabetes'])\n",
    "plt.xlabel(\"Predicted Label\")\n",
    "plt.ylabel(\"True Label\")\n",
    "plt.title(\"Confusion Matrix\")\n",
    "plt.show()"
   ]
  }
 ],
 "metadata": {
  "kernelspec": {
   "display_name": "Python [conda env:base] *",
   "language": "python",
   "name": "conda-base-py"
  },
  "language_info": {
   "codemirror_mode": {
    "name": "ipython",
    "version": 3
   },
   "file_extension": ".py",
   "mimetype": "text/x-python",
   "name": "python",
   "nbconvert_exporter": "python",
   "pygments_lexer": "ipython3",
   "version": "3.12.7"
  }
 },
 "nbformat": 4,
 "nbformat_minor": 5
}
